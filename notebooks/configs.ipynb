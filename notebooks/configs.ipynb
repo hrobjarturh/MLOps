{
 "cells": [
  {
   "cell_type": "code",
   "execution_count": 19,
   "metadata": {},
   "outputs": [
    {
     "name": "stdout",
     "output_type": "stream",
     "text": [
      "The autoreload extension is already loaded. To reload it, use:\n",
      "  %reload_ext autoreload\n"
     ]
    }
   ],
   "source": [
    "%load_ext autoreload\n",
    "%autoreload 2\n",
    "\n",
    "import torch\n",
    "import torch.nn as nn\n",
    "import torch.optim as optim\n",
    "from torchvision import models\n",
    "from PIL import Image\n",
    "import sys\n",
    "sys.path.append('../')  # Add the parent directory to the sys.path"
   ]
  },
  {
   "cell_type": "code",
   "execution_count": 5,
   "metadata": {},
   "outputs": [],
   "source": [
    "from animals10.models.GoogLeNet import GoogLeNet"
   ]
  },
  {
   "cell_type": "code",
   "execution_count": 7,
   "metadata": {},
   "outputs": [],
   "source": [
    "import hydra\n",
    "from omegaconf import DictConfig, OmegaConf\n",
    "from torchvision import models\n",
    "\n",
    "\n",
    "@hydra.main(version_base=None, config_path=\"../../config\", config_name=\"config\")\n",
    "def my_app(cfg: DictConfig) -> None:\n",
    "    print(OmegaConf.to_yaml(cfg))"
   ]
  },
  {
   "cell_type": "code",
   "execution_count": 11,
   "metadata": {},
   "outputs": [
    {
     "data": {
      "text/plain": [
       "{'foo': 'bar', 'foo2': '${foo}'}"
      ]
     },
     "execution_count": 11,
     "metadata": {},
     "output_type": "execute_result"
    }
   ],
   "source": [
    "OmegaConf.create({\"foo\": \"bar\", \"foo2\": \"${foo}\"})"
   ]
  },
  {
   "cell_type": "code",
   "execution_count": null,
   "metadata": {},
   "outputs": [],
   "source": [
    "import hydra\n",
    "from omegaconf import DictConfig, OmegaConf\n",
    "from torchvision import models\n",
    "\n",
    "\n",
    "@hydra.main(version_base=None, config_path=\"../../config\", config_name=\"config\")\n",
    "def my_app(cfg: DictConfig) -> None:\n",
    "    print(OmegaConf.to_yaml(cfg))"
   ]
  },
  {
   "cell_type": "code",
   "execution_count": 13,
   "metadata": {},
   "outputs": [
    {
     "name": "stdout",
     "output_type": "stream",
     "text": [
      "hyperparams:\n",
      "  batch_size: 32\n",
      "  epochs: 10\n",
      "  learning_rate: 0.001\n",
      "\n"
     ]
    }
   ],
   "source": [
    "# Open the config file\n",
    "with open(\"../config/config.yaml\", \"r\") as f:\n",
    "    cfg = OmegaConf.load(f)\n",
    "\n",
    "# Print the config\n",
    "print(OmegaConf.to_yaml(cfg))\n"
   ]
  },
  {
   "cell_type": "code",
   "execution_count": 17,
   "metadata": {},
   "outputs": [
    {
     "name": "stdout",
     "output_type": "stream",
     "text": [
      "{'batch_size': 32, 'epochs': 10, 'learning_rate': 0.001}\n"
     ]
    }
   ],
   "source": [
    "opt = hydra.utils.instantiate(cfg.hyperparams)\n",
    "print(opt)"
   ]
  },
  {
   "cell_type": "code",
   "execution_count": 14,
   "metadata": {},
   "outputs": [
    {
     "data": {
      "text/plain": [
       "32"
      ]
     },
     "execution_count": 14,
     "metadata": {},
     "output_type": "execute_result"
    }
   ],
   "source": [
    "cfg.hyperparams.batch_size"
   ]
  },
  {
   "cell_type": "code",
   "execution_count": null,
   "metadata": {},
   "outputs": [],
   "source": []
  }
 ],
 "metadata": {
  "kernelspec": {
   "display_name": "Python 3.10.13 ('.dev': venv)",
   "language": "python",
   "name": "python3"
  },
  "language_info": {
   "codemirror_mode": {
    "name": "ipython",
    "version": 3
   },
   "file_extension": ".py",
   "mimetype": "text/x-python",
   "name": "python",
   "nbconvert_exporter": "python",
   "pygments_lexer": "ipython3",
   "version": "3.10.13"
  },
  "orig_nbformat": 4,
  "vscode": {
   "interpreter": {
    "hash": "eb8a1656afa917825f0522f038435dba21b9fd2f56ef417abd10d124dcde60ff"
   }
  }
 },
 "nbformat": 4,
 "nbformat_minor": 2
}
