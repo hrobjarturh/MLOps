{
 "cells": [
  {
   "cell_type": "code",
   "execution_count": 35,
   "metadata": {},
   "outputs": [
    {
     "name": "stdout",
     "output_type": "stream",
     "text": [
      "The autoreload extension is already loaded. To reload it, use:\n",
      "  %reload_ext autoreload\n"
     ]
    }
   ],
   "source": [
    "%load_ext autoreload\n",
    "%autoreload 2\n",
    "\n",
    "import sys\n",
    "sys.path.append('../') \n",
    "\n",
    "import requests\n",
    "import json\n",
    "from PIL import Image\n",
    "import subprocess\n",
    "from animals10.data.Preprocessing import Preprocessing\n",
    "import json\n",
    "import datetime\n",
    "import wandb"
   ]
  },
  {
   "cell_type": "code",
   "execution_count": 36,
   "metadata": {},
   "outputs": [],
   "source": [
    "def get_token():\n",
    "    token = subprocess.check_output([\"gcloud\",\"auth\", \"print-identity-token\"])\n",
    "    return token.decode().strip()"
   ]
  },
  {
   "cell_type": "code",
   "execution_count": 37,
   "metadata": {},
   "outputs": [],
   "source": [
    "headers = {\n",
    "    \"Content-Type\": \"application/json\",\n",
    "    \"Authorization\": f\"Bearer {get_token()}\",\n",
    "}"
   ]
  },
  {
   "cell_type": "code",
   "execution_count": 55,
   "metadata": {},
   "outputs": [],
   "source": [
    "IMAGE_SIZE = 224\n",
    "input_image_path = \"../sheep.png\"\n",
    "#input_image_path = '../data/raw/archive/raw-img/cane/OIF-e2bexWrojgtQnAPPcUfOWQ 2.jpeg'\n",
    "img = Image.open(input_image_path).convert(\"RGB\")"
   ]
  },
  {
   "cell_type": "code",
   "execution_count": 56,
   "metadata": {},
   "outputs": [],
   "source": [
    "tensor_data = Preprocessing.preprocess_images(img, IMAGE_SIZE)"
   ]
  },
  {
   "cell_type": "code",
   "execution_count": 57,
   "metadata": {},
   "outputs": [
    {
     "name": "stdout",
     "output_type": "stream",
     "text": [
      "200\n"
     ]
    }
   ],
   "source": [
    "fastapi_url = \"https://animage-w3kv235oea-ew.a.run.app\"\n",
    "#fastapi_url = \"http://127.0.0.1:8000\"\n",
    "\n",
    "function = \"/process_tensor\"\n",
    "#function = \"/ping\"\n",
    "\n",
    "# Prepare the payload with the tensor data\n",
    "payload = {\n",
    "    \"data\": tensor_data.tolist()\n",
    "}\n",
    "\n",
    "# Convert the payload to JSON\n",
    "payload_json = json.dumps(payload)\n",
    "\n",
    "\n",
    "# Send a POST request to the FastAPI endpoint\n",
    "response = requests.post(f\"{fastapi_url}{function}\", data=payload_json, headers=headers)\n",
    "\n",
    "# Check the response\n",
    "if response.status_code == 200:\n",
    "    print(response.status_code)\n",
    "    outputs = response.json().get(\"results\")\n",
    "else:\n",
    "    print(\"Error:\", response.status_code)\n",
    "\n",
    "    "
   ]
  },
  {
   "cell_type": "code",
   "execution_count": 58,
   "metadata": {},
   "outputs": [
    {
     "data": {
      "text/plain": [
       "[[0.9673860669136047, 7]]"
      ]
     },
     "execution_count": 58,
     "metadata": {},
     "output_type": "execute_result"
    }
   ],
   "source": [
    "outputs"
   ]
  }
 ],
 "metadata": {
  "kernelspec": {
   "display_name": "Python 3.10.13 ('.cld': venv)",
   "language": "python",
   "name": "python3"
  },
  "language_info": {
   "codemirror_mode": {
    "name": "ipython",
    "version": 3
   },
   "file_extension": ".py",
   "mimetype": "text/x-python",
   "name": "python",
   "nbconvert_exporter": "python",
   "pygments_lexer": "ipython3",
   "version": "3.10.13"
  },
  "orig_nbformat": 4,
  "vscode": {
   "interpreter": {
    "hash": "7edcf03cd4c17c5614f23f5069bc2e6343d4979576997170450b7d201c145653"
   }
  }
 },
 "nbformat": 4,
 "nbformat_minor": 2
}
