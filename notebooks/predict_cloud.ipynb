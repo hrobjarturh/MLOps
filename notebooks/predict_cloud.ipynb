{
 "cells": [
  {
   "cell_type": "code",
   "execution_count": 18,
   "metadata": {},
   "outputs": [
    {
     "name": "stdout",
     "output_type": "stream",
     "text": [
      "The autoreload extension is already loaded. To reload it, use:\n",
      "  %reload_ext autoreload\n"
     ]
    }
   ],
   "source": [
    "%load_ext autoreload\n",
    "%autoreload 2\n",
    "\n",
    "import sys\n",
    "sys.path.append('../') \n",
    "\n",
    "import requests\n",
    "import json\n",
    "from PIL import Image\n",
    "import subprocess\n",
    "from animals10.data.Preprocessing import Preprocessing\n",
    "import json\n",
    "import datetime\n",
    "import wandb"
   ]
  },
  {
   "cell_type": "code",
   "execution_count": 5,
   "metadata": {},
   "outputs": [],
   "source": [
    "def get_token():\n",
    "    token = subprocess.check_output([\"gcloud\",\"auth\", \"print-identity-token\"])\n",
    "    return token.decode().strip()"
   ]
  },
  {
   "cell_type": "code",
   "execution_count": 6,
   "metadata": {},
   "outputs": [],
   "source": [
    "headers = {\n",
    "    \"Content-Type\": \"application/json\",\n",
    "    \"Authorization\": f\"Bearer {get_token()}\",\n",
    "}"
   ]
  },
  {
   "cell_type": "code",
   "execution_count": 11,
   "metadata": {},
   "outputs": [],
   "source": [
    "IMAGE_SIZE = 224\n",
    "#input_image_path = \"../dog.png\"\n",
    "input_image_path = '../data/raw/archive/raw-img/cane/OIF-e2bexWrojgtQnAPPcUfOWQ 2.jpeg'\n",
    "img = Image.open(input_image_path).convert(\"RGB\")"
   ]
  },
  {
   "cell_type": "code",
   "execution_count": 12,
   "metadata": {},
   "outputs": [],
   "source": [
    "tensor_data = Preprocessing.preprocess_images(img, IMAGE_SIZE)"
   ]
  },
  {
   "cell_type": "code",
   "execution_count": 19,
   "metadata": {},
   "outputs": [
    {
     "name": "stdout",
     "output_type": "stream",
     "text": [
      "200\n"
     ]
    }
   ],
   "source": [
    "fastapi_url = \"https://animage-w3kv235oea-ew.a.run.app\"\n",
    "#fastapi_url = \"http://127.0.0.1:8000\"\n",
    "\n",
    "function = \"/process_tensor\"\n",
    "#function = \"/ping\"\n",
    "\n",
    "# Prepare the payload with the tensor data\n",
    "payload = {\n",
    "    \"data\": tensor_data.tolist()\n",
    "}\n",
    "\n",
    "# Convert the payload to JSON\n",
    "payload_json = json.dumps(payload)\n",
    "\n",
    "\n",
    "# Send a POST request to the FastAPI endpoint\n",
    "response = requests.post(f\"{fastapi_url}{function}\", data=payload_json, headers=headers)\n",
    "\n",
    "# Check the response\n",
    "if response.status_code == 200:\n",
    "    print(response.status_code)\n",
    "    outputs = response.json().get(\"results\")\n",
    "else:\n",
    "    print(\"Error:\", response.status_code)\n",
    "\n",
    "    "
   ]
  },
  {
   "cell_type": "code",
   "execution_count": 24,
   "metadata": {},
   "outputs": [
    {
     "data": {
      "text/plain": [
       "[[0.9999924898147583, 0]]"
      ]
     },
     "execution_count": 24,
     "metadata": {},
     "output_type": "execute_result"
    }
   ],
   "source": [
    "outputs"
   ]
  },
  {
   "cell_type": "code",
   "execution_count": 25,
   "metadata": {},
   "outputs": [
    {
     "data": {
      "text/html": [
       "Finishing last run (ID:2ib6dgmk) before initializing another..."
      ],
      "text/plain": [
       "<IPython.core.display.HTML object>"
      ]
     },
     "metadata": {},
     "output_type": "display_data"
    },
    {
     "name": "stderr",
     "output_type": "stream",
     "text": [
      "wandb: WARNING Source type is set to 'repo' but some required information is missing from the environment. A job will not be created from this run. See https://docs.wandb.ai/guides/launch/create-job\n"
     ]
    },
    {
     "data": {
      "text/html": [
       "<style>\n",
       "    table.wandb td:nth-child(1) { padding: 0 10px; text-align: left ; width: auto;} td:nth-child(2) {text-align: left ; width: 100%}\n",
       "    .wandb-row { display: flex; flex-direction: row; flex-wrap: wrap; justify-content: flex-start; width: 100% }\n",
       "    .wandb-col { display: flex; flex-direction: column; flex-basis: 100%; flex: 1; padding: 10px; }\n",
       "    </style>\n",
       "<div class=\"wandb-row\"><div class=\"wandb-col\"><h3>Run history:</h3><br/><table class=\"wandb\"><tr><td>Production Model</td><td>▁</td></tr></table><br/></div><div class=\"wandb-col\"><h3>Run summary:</h3><br/><table class=\"wandb\"><tr><td>Production Model</td><td>0.99999</td></tr><tr><td>Time</td><td>2024-01-17T14:27:49....</td></tr></table><br/></div></div>"
      ],
      "text/plain": [
       "<IPython.core.display.HTML object>"
      ]
     },
     "metadata": {},
     "output_type": "display_data"
    },
    {
     "data": {
      "text/html": [
       " View run <strong style=\"color:#cdcd00\">stoic-snow-33</strong> at: <a href='https://wandb.ai/naelr/MLOps/runs/2ib6dgmk' target=\"_blank\">https://wandb.ai/naelr/MLOps/runs/2ib6dgmk</a><br/>Synced 4 W&B file(s), 0 media file(s), 0 artifact file(s) and 0 other file(s)"
      ],
      "text/plain": [
       "<IPython.core.display.HTML object>"
      ]
     },
     "metadata": {},
     "output_type": "display_data"
    },
    {
     "data": {
      "text/html": [
       "Find logs at: <code>./wandb/run-20240117_142744-2ib6dgmk/logs</code>"
      ],
      "text/plain": [
       "<IPython.core.display.HTML object>"
      ]
     },
     "metadata": {},
     "output_type": "display_data"
    },
    {
     "data": {
      "text/html": [
       "Successfully finished last run (ID:2ib6dgmk). Initializing new run:<br/>"
      ],
      "text/plain": [
       "<IPython.core.display.HTML object>"
      ]
     },
     "metadata": {},
     "output_type": "display_data"
    },
    {
     "data": {
      "text/html": [
       "wandb version 0.16.2 is available!  To upgrade, please run:\n",
       " $ pip install wandb --upgrade"
      ],
      "text/plain": [
       "<IPython.core.display.HTML object>"
      ]
     },
     "metadata": {},
     "output_type": "display_data"
    },
    {
     "data": {
      "text/html": [
       "Tracking run with wandb version 0.16.1"
      ],
      "text/plain": [
       "<IPython.core.display.HTML object>"
      ]
     },
     "metadata": {},
     "output_type": "display_data"
    },
    {
     "data": {
      "text/html": [
       "Run data is saved locally in <code>/Users/hrobjarturh/Documents/DTU/MLOps/MLOps/notebooks/wandb/run-20240117_142908-860b00lp</code>"
      ],
      "text/plain": [
       "<IPython.core.display.HTML object>"
      ]
     },
     "metadata": {},
     "output_type": "display_data"
    },
    {
     "data": {
      "text/html": [
       "Syncing run <strong><a href='https://wandb.ai/naelr/MLOps/runs/860b00lp' target=\"_blank\">Inference Probability</a></strong> to <a href='https://wandb.ai/naelr/MLOps' target=\"_blank\">Weights & Biases</a> (<a href='https://wandb.me/run' target=\"_blank\">docs</a>)<br/>"
      ],
      "text/plain": [
       "<IPython.core.display.HTML object>"
      ]
     },
     "metadata": {},
     "output_type": "display_data"
    },
    {
     "data": {
      "text/html": [
       " View project at <a href='https://wandb.ai/naelr/MLOps' target=\"_blank\">https://wandb.ai/naelr/MLOps</a>"
      ],
      "text/plain": [
       "<IPython.core.display.HTML object>"
      ]
     },
     "metadata": {},
     "output_type": "display_data"
    },
    {
     "data": {
      "text/html": [
       " View run at <a href='https://wandb.ai/naelr/MLOps/runs/860b00lp' target=\"_blank\">https://wandb.ai/naelr/MLOps/runs/860b00lp</a>"
      ],
      "text/plain": [
       "<IPython.core.display.HTML object>"
      ]
     },
     "metadata": {},
     "output_type": "display_data"
    },
    {
     "data": {
      "text/html": [
       "<button onClick=\"this.nextSibling.style.display='block';this.style.display='none';\">Display W&B run</button><iframe src='https://wandb.ai/naelr/MLOps/runs/860b00lp?jupyter=true' style='border:none;width:100%;height:420px;display:none;'></iframe>"
      ],
      "text/plain": [
       "<wandb.sdk.wandb_run.Run at 0x7f88cc60ea40>"
      ]
     },
     "execution_count": 25,
     "metadata": {},
     "output_type": "execute_result"
    }
   ],
   "source": [
    "wandb.init(project=\"MLOps\", entity=\"naelr\", name=\"Inference Probability\")"
   ]
  },
  {
   "cell_type": "code",
   "execution_count": 26,
   "metadata": {},
   "outputs": [
    {
     "name": "stderr",
     "output_type": "stream",
     "text": [
      "wandb: ERROR Error while calling W&B API: run naelr/MLOps/860b00lp was previously created and deleted; try a new run name (<Response [409]>)\n",
      "wandb: ERROR Error while calling W&B API: run naelr/MLOps/860b00lp was previously created and deleted; try a new run name (<Response [409]>)\n",
      "wandb: ERROR Error while calling W&B API: run naelr/MLOps/860b00lp was previously created and deleted; try a new run name (<Response [409]>)\n",
      "wandb: ERROR Error while calling W&B API: run naelr/MLOps/860b00lp was previously created and deleted; try a new run name (<Response [409]>)\n",
      "wandb: ERROR Error while calling W&B API: run naelr/MLOps/860b00lp was previously created and deleted; try a new run name (<Response [409]>)\n",
      "wandb: ERROR Error while calling W&B API: run naelr/MLOps/860b00lp was previously created and deleted; try a new run name (<Response [409]>)\n",
      "wandb: ERROR Error while calling W&B API: run naelr/MLOps/860b00lp was previously created and deleted; try a new run name (<Response [409]>)\n",
      "wandb: ERROR Error while calling W&B API: run naelr/MLOps/860b00lp was previously created and deleted; try a new run name (<Response [409]>)\n",
      "Thread SenderThread:\n",
      "Traceback (most recent call last):\n",
      "  File \"/Users/hrobjarturh/Documents/DTU/MLOps/MLOps/.inf/lib/python3.10/site-packages/wandb/apis/normalize.py\", line 41, in wrapper\n",
      "    return func(*args, **kwargs)\n",
      "  File \"/Users/hrobjarturh/Documents/DTU/MLOps/MLOps/.inf/lib/python3.10/site-packages/wandb/sdk/internal/internal_api.py\", line 2212, in upsert_run\n",
      "    response = self.gql(\n",
      "  File \"/Users/hrobjarturh/Documents/DTU/MLOps/MLOps/.inf/lib/python3.10/site-packages/wandb/sdk/internal/internal_api.py\", line 341, in gql\n",
      "    ret = self._retry_gql(\n",
      "  File \"/Users/hrobjarturh/Documents/DTU/MLOps/MLOps/.inf/lib/python3.10/site-packages/wandb/sdk/lib/retry.py\", line 131, in __call__\n",
      "    result = self._call_fn(*args, **kwargs)\n",
      "  File \"/Users/hrobjarturh/Documents/DTU/MLOps/MLOps/.inf/lib/python3.10/site-packages/wandb/sdk/internal/internal_api.py\", line 369, in execute\n",
      "    return self.client.execute(*args, **kwargs)  # type: ignore\n",
      "  File \"/Users/hrobjarturh/Documents/DTU/MLOps/MLOps/.inf/lib/python3.10/site-packages/wandb/vendor/gql-0.2.0/wandb_gql/client.py\", line 52, in execute\n",
      "    result = self._get_result(document, *args, **kwargs)\n",
      "  File \"/Users/hrobjarturh/Documents/DTU/MLOps/MLOps/.inf/lib/python3.10/site-packages/wandb/vendor/gql-0.2.0/wandb_gql/client.py\", line 60, in _get_result\n",
      "    return self.transport.execute(document, *args, **kwargs)\n",
      "  File \"/Users/hrobjarturh/Documents/DTU/MLOps/MLOps/.inf/lib/python3.10/site-packages/wandb/sdk/lib/gql_request.py\", line 59, in execute\n",
      "    request.raise_for_status()\n",
      "  File \"/Users/hrobjarturh/Documents/DTU/MLOps/MLOps/.inf/lib/python3.10/site-packages/requests/models.py\", line 1021, in raise_for_status\n",
      "    raise HTTPError(http_error_msg, response=self)\n",
      "requests.exceptions.HTTPError: 409 Client Error: Conflict for url: https://api.wandb.ai/graphql\n",
      "\n",
      "During handling of the above exception, another exception occurred:\n",
      "\n",
      "Traceback (most recent call last):\n",
      "  File \"/Users/hrobjarturh/Documents/DTU/MLOps/MLOps/.inf/lib/python3.10/site-packages/wandb/sdk/internal/internal_util.py\", line 49, in run\n",
      "    self._run()\n",
      "  File \"/Users/hrobjarturh/Documents/DTU/MLOps/MLOps/.inf/lib/python3.10/site-packages/wandb/sdk/internal/internal_util.py\", line 93, in _run\n",
      "    self._debounce()\n",
      "  File \"/Users/hrobjarturh/Documents/DTU/MLOps/MLOps/.inf/lib/python3.10/site-packages/wandb/sdk/internal/internal.py\", line 334, in _debounce\n",
      "    self._sm.debounce()\n",
      "  File \"/Users/hrobjarturh/Documents/DTU/MLOps/MLOps/.inf/lib/python3.10/site-packages/wandb/sdk/internal/sender.py\", line 540, in debounce\n",
      "    self._maybe_update_config(always=final)\n",
      "  File \"/Users/hrobjarturh/Documents/DTU/MLOps/MLOps/.inf/lib/python3.10/site-packages/wandb/sdk/internal/sender.py\", line 517, in _maybe_update_config\n",
      "    self._debounce_config()\n",
      "  File \"/Users/hrobjarturh/Documents/DTU/MLOps/MLOps/.inf/lib/python3.10/site-packages/wandb/sdk/internal/sender.py\", line 546, in _debounce_config\n",
      "    self._api.upsert_run(\n",
      "  File \"/Users/hrobjarturh/Documents/DTU/MLOps/MLOps/.inf/lib/python3.10/site-packages/wandb/apis/normalize.py\", line 51, in wrapper\n",
      "    raise CommError(message, error)\n",
      "wandb.errors.CommError: run naelr/MLOps/860b00lp was previously created and deleted; try a new run name (Error 409: Conflict)\n",
      "wandb: ERROR Internal wandb error: file data was not synced\n"
     ]
    }
   ],
   "source": [
    "\n",
    "for output in outputs:\n",
    "    now = datetime.datetime.now()\n",
    "    wandb.log({\"Time\": now, \"Production Model\": output[0]})"
   ]
  },
  {
   "cell_type": "code",
   "execution_count": null,
   "metadata": {},
   "outputs": [],
   "source": []
  }
 ],
 "metadata": {
  "kernelspec": {
   "display_name": "Python 3.10.13 ('.inf': venv)",
   "language": "python",
   "name": "python3"
  },
  "language_info": {
   "codemirror_mode": {
    "name": "ipython",
    "version": 3
   },
   "file_extension": ".py",
   "mimetype": "text/x-python",
   "name": "python",
   "nbconvert_exporter": "python",
   "pygments_lexer": "ipython3",
   "version": "3.10.13"
  },
  "orig_nbformat": 4,
  "vscode": {
   "interpreter": {
    "hash": "ab930075d3ec766e6d3403a5d6f4868685c6484759f25392a7d9ca037bc827c7"
   }
  }
 },
 "nbformat": 4,
 "nbformat_minor": 2
}
