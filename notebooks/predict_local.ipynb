{
 "cells": [
  {
   "cell_type": "code",
   "execution_count": 10,
   "metadata": {},
   "outputs": [
    {
     "name": "stdout",
     "output_type": "stream",
     "text": [
      "The autoreload extension is already loaded. To reload it, use:\n",
      "  %reload_ext autoreload\n"
     ]
    }
   ],
   "source": [
    "%load_ext autoreload\n",
    "%autoreload 2\n",
    "\n",
    "import torch\n",
    "import torch.nn as nn\n",
    "import torch.optim as optim\n",
    "from torchvision import models\n",
    "from PIL import Image\n",
    "import sys\n",
    "\n",
    "\n",
    "sys.path.append('../')  # Add the parent directory to the sys.path\n",
    "from animals10.predict_model import Predictor\n",
    "from animals10.data.Preprocessing import Preprocessing\n",
    "from animals10.models.GoogLeNet import GoogLeNet\n"
   ]
  },
  {
   "cell_type": "code",
   "execution_count": 11,
   "metadata": {},
   "outputs": [],
   "source": [
    "IMAGE_SIZE = 224\n",
    "filename = '../dog.png'\n",
    "img1 = '../data/raw/archive/raw-img/cane/OIF-e2bexWrojgtQnAPPcUfOWQ 2.jpeg'\n",
    "img2 = '../data/raw/archive/raw-img/cane/OIP-_-AtcUnGMN6ht4EYKmgkXgHaE8 2.jpeg'"
   ]
  },
  {
   "cell_type": "code",
   "execution_count": 12,
   "metadata": {},
   "outputs": [],
   "source": [
    "predictor = Predictor(\"../models/googlenet_model_0.pth\")"
   ]
  },
  {
   "cell_type": "code",
   "execution_count": 14,
   "metadata": {},
   "outputs": [
    {
     "data": {
      "text/plain": [
       "[(0.9794394373893738, 5), (0.9999924898147583, 0), (0.998863935470581, 0)]"
      ]
     },
     "execution_count": 14,
     "metadata": {},
     "output_type": "execute_result"
    }
   ],
   "source": [
    "predictor.predict([filename,img1,img2])"
   ]
  },
  {
   "cell_type": "code",
   "execution_count": null,
   "metadata": {},
   "outputs": [],
   "source": []
  }
 ],
 "metadata": {
  "kernelspec": {
   "display_name": "Python 3.10.13 ('.inf': venv)",
   "language": "python",
   "name": "python3"
  },
  "language_info": {
   "codemirror_mode": {
    "name": "ipython",
    "version": 3
   },
   "file_extension": ".py",
   "mimetype": "text/x-python",
   "name": "python",
   "nbconvert_exporter": "python",
   "pygments_lexer": "ipython3",
   "version": "3.10.13"
  },
  "orig_nbformat": 4,
  "vscode": {
   "interpreter": {
    "hash": "ab930075d3ec766e6d3403a5d6f4868685c6484759f25392a7d9ca037bc827c7"
   }
  }
 },
 "nbformat": 4,
 "nbformat_minor": 2
}
